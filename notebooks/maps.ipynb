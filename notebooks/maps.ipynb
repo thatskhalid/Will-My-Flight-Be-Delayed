{
 "cells": [
  {
   "cell_type": "code",
   "execution_count": 2,
   "metadata": {},
   "outputs": [],
   "source": [
    "import pandas as pd\n",
    "\n",
    "map = pd.read_csv(\"/Users/khalidmahmood/Coding Workspace/Will-My-Flight-Be-Delayed/data/airports.dat\", \n",
    "                  header=None,\n",
    "                  names=[\"AirportID\",\"Name\",\"City\",\"Country\",\"IATA\",\"ICAO\",\"Latitude\",\"Longitude\",\"Altitude\",\"Timezone\",\"DST\",\"Tz\",\"Type\",\"Source\"])\n",
    "\n",
    "coords = map[[\"IATA\", \"Latitude\", \"Longitude\"]]\n",
    "coords = coords.dropna(subset=[\"IATA\", \"Latitude\", \"Longitude\"])\n",
    "coords.to_csv(\"/Users/khalidmahmood/Coding Workspace/Will-My-Flight-Be-Delayed/data/airport_coords.csv\", index=False)\n"
   ]
  }
 ],
 "metadata": {
  "kernelspec": {
   "display_name": "Python 3",
   "language": "python",
   "name": "python3"
  },
  "language_info": {
   "codemirror_mode": {
    "name": "ipython",
    "version": 3
   },
   "file_extension": ".py",
   "mimetype": "text/x-python",
   "name": "python",
   "nbconvert_exporter": "python",
   "pygments_lexer": "ipython3",
   "version": "3.12.5"
  },
  "orig_nbformat": 4,
  "vscode": {
   "interpreter": {
    "hash": "aee8b7b246df8f9039afb4144a1f6fd8d2ca17a180786b69acc140d282b71a49"
   }
  }
 },
 "nbformat": 4,
 "nbformat_minor": 2
}
